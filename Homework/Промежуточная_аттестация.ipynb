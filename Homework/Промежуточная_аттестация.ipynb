{
 "cells": [
  {
   "cell_type": "markdown",
   "metadata": {
    "id": "XsNU9x5bdnRF"
   },
   "source": [
    "# Промежуточная аттестация"
   ]
  },
  {
   "cell_type": "markdown",
   "metadata": {
    "id": "5zls75ladrAQ"
   },
   "source": [
    "## Импорт библиотек, инициализация сессии"
   ]
  },
  {
   "cell_type": "code",
   "execution_count": 26,
   "metadata": {
    "colab": {
     "base_uri": "https://localhost:8080/"
    },
    "id": "tzvJ2GfeTz3w",
    "outputId": "93b05951-2a09-42bf-d3e2-56758b909412"
   },
   "outputs": [
    {
     "name": "stdout",
     "output_type": "stream",
     "text": [
      "Requirement already satisfied: pyspark in /usr/local/lib/python3.7/dist-packages (3.2.0)\n",
      "Requirement already satisfied: py4j==0.10.9.2 in /usr/local/lib/python3.7/dist-packages (from pyspark) (0.10.9.2)\n",
      "--2021-12-22 18:43:53--  https://raw.githubusercontent.com/uiuc-cse/data-fa14/gh-pages/data/iris.csv\n",
      "Resolving raw.githubusercontent.com (raw.githubusercontent.com)... 185.199.108.133, 185.199.111.133, 185.199.110.133, ...\n",
      "Connecting to raw.githubusercontent.com (raw.githubusercontent.com)|185.199.108.133|:443... connected.\n",
      "HTTP request sent, awaiting response... 200 OK\n",
      "Length: 3716 (3.6K) [text/plain]\n",
      "Saving to: ‘iris.csv.1’\n",
      "\n",
      "iris.csv.1          100%[===================>]   3.63K  --.-KB/s    in 0s      \n",
      "\n",
      "2021-12-22 18:43:54 (55.5 MB/s) - ‘iris.csv.1’ saved [3716/3716]\n",
      "\n"
     ]
    }
   ],
   "source": [
    "!pip install pyspark\n",
    "!wget https://raw.githubusercontent.com/uiuc-cse/data-fa14/gh-pages/data/iris.csv"
   ]
  },
  {
   "cell_type": "code",
   "execution_count": 27,
   "metadata": {
    "id": "csxKdB1XmkYY"
   },
   "outputs": [],
   "source": [
    "# Предварительная обработка данных\n",
    "from pyspark.sql import SparkSession\n",
    "from pyspark.ml.linalg import Vectors\n",
    "from pyspark.ml.feature import VectorAssembler\n",
    "from pyspark.ml.feature import StringIndexer\n",
    "from pyspark.ml import Pipeline\n",
    "\n",
    "#Логистическая регрессия\n",
    "from pyspark.ml.classification import LogisticRegression"
   ]
  },
  {
   "cell_type": "code",
   "execution_count": 28,
   "metadata": {
    "id": "OERndGb_d8zg"
   },
   "outputs": [],
   "source": [
    "#инициализация сессии pyspark\n",
    "spark = SparkSession.builder.master(\"local[*]\").getOrCreate()"
   ]
  },
  {
   "cell_type": "markdown",
   "metadata": {
    "id": "lRRJ1yf-Htyt"
   },
   "source": [
    "## Загрузите файл iris.csv и выведите его командой show"
   ]
  },
  {
   "cell_type": "code",
   "execution_count": 58,
   "metadata": {
    "id": "Z66OGQ6AH1Aj"
   },
   "outputs": [],
   "source": [
    "# читаем файл\n",
    "df = spark.read.csv('iris.csv', inferSchema=True, header=True)"
   ]
  },
  {
   "cell_type": "code",
   "execution_count": 30,
   "metadata": {
    "colab": {
     "base_uri": "https://localhost:8080/"
    },
    "id": "3WV_N3i9NcFi",
    "outputId": "cbc0793d-3fff-40b3-c8f9-7cbdc92cd77e"
   },
   "outputs": [
    {
     "name": "stdout",
     "output_type": "stream",
     "text": [
      "+------------+-----------+------------+-----------+-------+\n",
      "|sepal_length|sepal_width|petal_length|petal_width|species|\n",
      "+------------+-----------+------------+-----------+-------+\n",
      "|         5.1|        3.5|         1.4|        0.2| setosa|\n",
      "|         4.9|        3.0|         1.4|        0.2| setosa|\n",
      "|         4.7|        3.2|         1.3|        0.2| setosa|\n",
      "|         4.6|        3.1|         1.5|        0.2| setosa|\n",
      "|         5.0|        3.6|         1.4|        0.2| setosa|\n",
      "|         5.4|        3.9|         1.7|        0.4| setosa|\n",
      "|         4.6|        3.4|         1.4|        0.3| setosa|\n",
      "|         5.0|        3.4|         1.5|        0.2| setosa|\n",
      "|         4.4|        2.9|         1.4|        0.2| setosa|\n",
      "|         4.9|        3.1|         1.5|        0.1| setosa|\n",
      "+------------+-----------+------------+-----------+-------+\n",
      "only showing top 10 rows\n",
      "\n"
     ]
    }
   ],
   "source": [
    "df.show(10)"
   ]
  },
  {
   "cell_type": "code",
   "execution_count": 31,
   "metadata": {
    "colab": {
     "base_uri": "https://localhost:8080/"
    },
    "id": "BegZo0dTf2tq",
    "outputId": "51087355-43a6-4c99-ef6c-1ef36b239abf"
   },
   "outputs": [
    {
     "name": "stdout",
     "output_type": "stream",
     "text": [
      "+-------+------------------+-------------------+------------------+------------------+---------+\n",
      "|summary|      sepal_length|        sepal_width|      petal_length|       petal_width|  species|\n",
      "+-------+------------------+-------------------+------------------+------------------+---------+\n",
      "|  count|               150|                150|               150|               150|      150|\n",
      "|   mean| 5.843333333333335| 3.0540000000000007|3.7586666666666693|1.1986666666666672|     null|\n",
      "| stddev|0.8280661279778637|0.43359431136217375| 1.764420419952262|0.7631607417008414|     null|\n",
      "|    min|               4.3|                2.0|               1.0|               0.1|   setosa|\n",
      "|    max|               7.9|                4.4|               6.9|               2.5|virginica|\n",
      "+-------+------------------+-------------------+------------------+------------------+---------+\n",
      "\n"
     ]
    }
   ],
   "source": [
    "df.describe().show()"
   ]
  },
  {
   "cell_type": "code",
   "execution_count": 32,
   "metadata": {
    "colab": {
     "base_uri": "https://localhost:8080/"
    },
    "id": "8EC74bsqoHNs",
    "outputId": "5c892e48-c582-47cf-9532-7d9a81943853"
   },
   "outputs": [
    {
     "data": {
      "text/plain": [
       "pyspark.sql.dataframe.DataFrame"
      ]
     },
     "execution_count": 32,
     "metadata": {},
     "output_type": "execute_result"
    }
   ],
   "source": [
    "type(df)"
   ]
  },
  {
   "cell_type": "code",
   "execution_count": 33,
   "metadata": {
    "colab": {
     "base_uri": "https://localhost:8080/"
    },
    "id": "m-MVERPGn_Ij",
    "outputId": "6544bd61-3af3-432c-f2ed-23e5a290708b"
   },
   "outputs": [
    {
     "name": "stdout",
     "output_type": "stream",
     "text": [
      "+------------+-----------+------------+-----------+-------+\n",
      "|sepal_length|sepal_width|petal_length|petal_width|species|\n",
      "+------------+-----------+------------+-----------+-------+\n",
      "|         5.1|        3.5|         1.4|        0.2| setosa|\n",
      "|         4.9|        3.0|         1.4|        0.2| setosa|\n",
      "|         4.7|        3.2|         1.3|        0.2| setosa|\n",
      "|         4.6|        3.1|         1.5|        0.2| setosa|\n",
      "|         5.0|        3.6|         1.4|        0.2| setosa|\n",
      "|         5.4|        3.9|         1.7|        0.4| setosa|\n",
      "|         4.6|        3.4|         1.4|        0.3| setosa|\n",
      "|         5.0|        3.4|         1.5|        0.2| setosa|\n",
      "|         4.4|        2.9|         1.4|        0.2| setosa|\n",
      "|         4.9|        3.1|         1.5|        0.1| setosa|\n",
      "|         5.4|        3.7|         1.5|        0.2| setosa|\n",
      "|         4.8|        3.4|         1.6|        0.2| setosa|\n",
      "|         4.8|        3.0|         1.4|        0.1| setosa|\n",
      "|         4.3|        3.0|         1.1|        0.1| setosa|\n",
      "|         5.8|        4.0|         1.2|        0.2| setosa|\n",
      "|         5.7|        4.4|         1.5|        0.4| setosa|\n",
      "|         5.4|        3.9|         1.3|        0.4| setosa|\n",
      "|         5.1|        3.5|         1.4|        0.3| setosa|\n",
      "|         5.7|        3.8|         1.7|        0.3| setosa|\n",
      "|         5.1|        3.8|         1.5|        0.3| setosa|\n",
      "+------------+-----------+------------+-----------+-------+\n",
      "only showing top 20 rows\n",
      "\n"
     ]
    }
   ],
   "source": [
    "df.show()"
   ]
  },
  {
   "cell_type": "code",
   "execution_count": 34,
   "metadata": {
    "id": "zCz0GSCjcxPC"
   },
   "outputs": [],
   "source": [
    "pipeline = Pipeline (stages=\n",
    "[\n",
    "  StringIndexer(inputCol='species', outputCol='speciesInd'),\n",
    "  VectorAssembler(inputCols=['sepal_length','sepal_width','petal_length','petal_width'],outputCol='feature') \n",
    "]\n",
    ").fit(df)         "
   ]
  },
  {
   "cell_type": "code",
   "execution_count": 35,
   "metadata": {
    "id": "x222A8tHdA4R"
   },
   "outputs": [],
   "source": [
    "df = pipeline.transform(df)"
   ]
  },
  {
   "cell_type": "code",
   "execution_count": 36,
   "metadata": {
    "colab": {
     "base_uri": "https://localhost:8080/"
    },
    "id": "ZTiFV-jndNgD",
    "outputId": "c5245211-b6b9-472a-b606-c85adf08c02a"
   },
   "outputs": [
    {
     "name": "stdout",
     "output_type": "stream",
     "text": [
      "+------------+-----------+------------+-----------+-------+----------+-----------------+\n",
      "|sepal_length|sepal_width|petal_length|petal_width|species|speciesInd|          feature|\n",
      "+------------+-----------+------------+-----------+-------+----------+-----------------+\n",
      "|         5.1|        3.5|         1.4|        0.2| setosa|       0.0|[5.1,3.5,1.4,0.2]|\n",
      "|         4.9|        3.0|         1.4|        0.2| setosa|       0.0|[4.9,3.0,1.4,0.2]|\n",
      "|         4.7|        3.2|         1.3|        0.2| setosa|       0.0|[4.7,3.2,1.3,0.2]|\n",
      "|         4.6|        3.1|         1.5|        0.2| setosa|       0.0|[4.6,3.1,1.5,0.2]|\n",
      "|         5.0|        3.6|         1.4|        0.2| setosa|       0.0|[5.0,3.6,1.4,0.2]|\n",
      "|         5.4|        3.9|         1.7|        0.4| setosa|       0.0|[5.4,3.9,1.7,0.4]|\n",
      "|         4.6|        3.4|         1.4|        0.3| setosa|       0.0|[4.6,3.4,1.4,0.3]|\n",
      "|         5.0|        3.4|         1.5|        0.2| setosa|       0.0|[5.0,3.4,1.5,0.2]|\n",
      "|         4.4|        2.9|         1.4|        0.2| setosa|       0.0|[4.4,2.9,1.4,0.2]|\n",
      "|         4.9|        3.1|         1.5|        0.1| setosa|       0.0|[4.9,3.1,1.5,0.1]|\n",
      "|         5.4|        3.7|         1.5|        0.2| setosa|       0.0|[5.4,3.7,1.5,0.2]|\n",
      "|         4.8|        3.4|         1.6|        0.2| setosa|       0.0|[4.8,3.4,1.6,0.2]|\n",
      "|         4.8|        3.0|         1.4|        0.1| setosa|       0.0|[4.8,3.0,1.4,0.1]|\n",
      "|         4.3|        3.0|         1.1|        0.1| setosa|       0.0|[4.3,3.0,1.1,0.1]|\n",
      "|         5.8|        4.0|         1.2|        0.2| setosa|       0.0|[5.8,4.0,1.2,0.2]|\n",
      "|         5.7|        4.4|         1.5|        0.4| setosa|       0.0|[5.7,4.4,1.5,0.4]|\n",
      "|         5.4|        3.9|         1.3|        0.4| setosa|       0.0|[5.4,3.9,1.3,0.4]|\n",
      "|         5.1|        3.5|         1.4|        0.3| setosa|       0.0|[5.1,3.5,1.4,0.3]|\n",
      "|         5.7|        3.8|         1.7|        0.3| setosa|       0.0|[5.7,3.8,1.7,0.3]|\n",
      "|         5.1|        3.8|         1.5|        0.3| setosa|       0.0|[5.1,3.8,1.5,0.3]|\n",
      "+------------+-----------+------------+-----------+-------+----------+-----------------+\n",
      "only showing top 20 rows\n",
      "\n"
     ]
    }
   ],
   "source": [
    "df.show()"
   ]
  },
  {
   "cell_type": "markdown",
   "metadata": {
    "id": "GjMxxrInEerA"
   },
   "source": [
    "# Работа с моделью."
   ]
  },
  {
   "cell_type": "code",
   "execution_count": 37,
   "metadata": {
    "id": "Hj9FZxr-EXi0"
   },
   "outputs": [],
   "source": [
    "train, test = df.randomSplit([0.8, 0.2], seed=1377)"
   ]
  },
  {
   "cell_type": "code",
   "execution_count": 38,
   "metadata": {
    "colab": {
     "base_uri": "https://localhost:8080/"
    },
    "id": "Rq_EQCXVFRJ3",
    "outputId": "78dad449-611e-40c6-869e-664613b72858"
   },
   "outputs": [
    {
     "name": "stdout",
     "output_type": "stream",
     "text": [
      "+------------+-----------+------------+-----------+-------+----------+-----------------+\n",
      "|sepal_length|sepal_width|petal_length|petal_width|species|speciesInd|          feature|\n",
      "+------------+-----------+------------+-----------+-------+----------+-----------------+\n",
      "|         4.3|        3.0|         1.1|        0.1| setosa|       0.0|[4.3,3.0,1.1,0.1]|\n",
      "|         4.4|        2.9|         1.4|        0.2| setosa|       0.0|[4.4,2.9,1.4,0.2]|\n",
      "|         4.4|        3.0|         1.3|        0.2| setosa|       0.0|[4.4,3.0,1.3,0.2]|\n",
      "|         4.4|        3.2|         1.3|        0.2| setosa|       0.0|[4.4,3.2,1.3,0.2]|\n",
      "|         4.5|        2.3|         1.3|        0.3| setosa|       0.0|[4.5,2.3,1.3,0.3]|\n",
      "|         4.6|        3.1|         1.5|        0.2| setosa|       0.0|[4.6,3.1,1.5,0.2]|\n",
      "|         4.6|        3.2|         1.4|        0.2| setosa|       0.0|[4.6,3.2,1.4,0.2]|\n",
      "|         4.6|        3.4|         1.4|        0.3| setosa|       0.0|[4.6,3.4,1.4,0.3]|\n",
      "|         4.6|        3.6|         1.0|        0.2| setosa|       0.0|[4.6,3.6,1.0,0.2]|\n",
      "|         4.7|        3.2|         1.3|        0.2| setosa|       0.0|[4.7,3.2,1.3,0.2]|\n",
      "+------------+-----------+------------+-----------+-------+----------+-----------------+\n",
      "only showing top 10 rows\n",
      "\n"
     ]
    }
   ],
   "source": [
    "train.show(10)"
   ]
  },
  {
   "cell_type": "code",
   "execution_count": 39,
   "metadata": {
    "colab": {
     "base_uri": "https://localhost:8080/"
    },
    "id": "rdYKsz9qdXuf",
    "outputId": "8e8301a5-30af-43ec-d1ed-beead1058e86"
   },
   "outputs": [
    {
     "name": "stdout",
     "output_type": "stream",
     "text": [
      "+------------+-----------+------------+-----------+----------+----------+-----------------+\n",
      "|sepal_length|sepal_width|petal_length|petal_width|   species|speciesInd|          feature|\n",
      "+------------+-----------+------------+-----------+----------+----------+-----------------+\n",
      "|         4.7|        3.2|         1.6|        0.2|    setosa|       0.0|[4.7,3.2,1.6,0.2]|\n",
      "|         4.8|        3.0|         1.4|        0.3|    setosa|       0.0|[4.8,3.0,1.4,0.3]|\n",
      "|         4.8|        3.4|         1.6|        0.2|    setosa|       0.0|[4.8,3.4,1.6,0.2]|\n",
      "|         4.9|        3.0|         1.4|        0.2|    setosa|       0.0|[4.9,3.0,1.4,0.2]|\n",
      "|         5.0|        2.3|         3.3|        1.0|versicolor|       1.0|[5.0,2.3,3.3,1.0]|\n",
      "|         5.0|        3.2|         1.2|        0.2|    setosa|       0.0|[5.0,3.2,1.2,0.2]|\n",
      "|         5.0|        3.3|         1.4|        0.2|    setosa|       0.0|[5.0,3.3,1.4,0.2]|\n",
      "|         5.1|        2.5|         3.0|        1.1|versicolor|       1.0|[5.1,2.5,3.0,1.1]|\n",
      "|         5.1|        3.5|         1.4|        0.3|    setosa|       0.0|[5.1,3.5,1.4,0.3]|\n",
      "|         5.5|        2.4|         3.8|        1.1|versicolor|       1.0|[5.5,2.4,3.8,1.1]|\n",
      "+------------+-----------+------------+-----------+----------+----------+-----------------+\n",
      "only showing top 10 rows\n",
      "\n"
     ]
    }
   ],
   "source": [
    "test.show(10)"
   ]
  },
  {
   "cell_type": "code",
   "execution_count": 41,
   "metadata": {
    "id": "DBcOuTtFFApc"
   },
   "outputs": [],
   "source": [
    "lr = LogisticRegression(featuresCol = 'feature', labelCol = 'speciesInd')\n",
    "lrModel1 = lr.fit(train)"
   ]
  },
  {
   "cell_type": "code",
   "execution_count": 42,
   "metadata": {
    "id": "tr9NN0dpFNTq"
   },
   "outputs": [],
   "source": [
    "train_res = lrModel1.transform(train)\n",
    "test_res = lrModel1.transform(test)"
   ]
  },
  {
   "cell_type": "code",
   "execution_count": 44,
   "metadata": {
    "colab": {
     "base_uri": "https://localhost:8080/"
    },
    "id": "I-E255CQFnU6",
    "outputId": "b9e8cc63-cfd9-489f-f129-8de2c9b27eae"
   },
   "outputs": [
    {
     "name": "stdout",
     "output_type": "stream",
     "text": [
      "+------------+-----------+------------+-----------+-------+----------+-----------------+--------------------+--------------------+----------+\n",
      "|sepal_length|sepal_width|petal_length|petal_width|species|speciesInd|          feature|       rawPrediction|         probability|prediction|\n",
      "+------------+-----------+------------+-----------+-------+----------+-----------------+--------------------+--------------------+----------+\n",
      "|         4.3|        3.0|         1.1|        0.1| setosa|       0.0|[4.3,3.0,1.1,0.1]|[434.643370037956...|[1.0,9.5873471952...|       0.0|\n",
      "|         4.4|        2.9|         1.4|        0.2| setosa|       0.0|[4.4,2.9,1.4,0.2]|[380.832326847187...|[1.0,5.8836876448...|       0.0|\n",
      "|         4.4|        3.0|         1.3|        0.2| setosa|       0.0|[4.4,3.0,1.3,0.2]|[399.568048121883...|[1.0,1.0098674778...|       0.0|\n",
      "|         4.4|        3.2|         1.3|        0.2| setosa|       0.0|[4.4,3.2,1.3,0.2]|[423.801079640484...|[1.0,2.2676021656...|       0.0|\n",
      "|         4.5|        2.3|         1.3|        0.3| setosa|       0.0|[4.5,2.3,1.3,0.3]|[292.915526921500...|[0.99999999999177...|       0.0|\n",
      "|         4.6|        3.1|         1.5|        0.2| setosa|       0.0|[4.6,3.1,1.5,0.2]|[382.464250270149...|[1.0,3.4601080445...|       0.0|\n",
      "|         4.6|        3.2|         1.4|        0.2| setosa|       0.0|[4.6,3.2,1.4,0.2]|[401.199971544845...|[1.0,5.9388784637...|       0.0|\n",
      "|         4.6|        3.4|         1.4|        0.3| setosa|       0.0|[4.6,3.4,1.4,0.3]|[411.587043468287...|[1.0,1.0640189605...|       0.0|\n",
      "|         4.6|        3.6|         1.0|        0.2| setosa|       0.0|[4.6,3.6,1.0,0.2]|[476.142856643631...|[1.0,5.1542270755...|       0.0|\n",
      "|         4.7|        3.2|         1.3|        0.2| setosa|       0.0|[4.7,3.2,1.3,0.2]|[399.828225770120...|[1.0,1.1781986853...|       0.0|\n",
      "+------------+-----------+------------+-----------+-------+----------+-----------------+--------------------+--------------------+----------+\n",
      "only showing top 10 rows\n",
      "\n"
     ]
    }
   ],
   "source": [
    "train_res.show(10)"
   ]
  },
  {
   "cell_type": "code",
   "execution_count": 45,
   "metadata": {
    "colab": {
     "base_uri": "https://localhost:8080/"
    },
    "id": "xq4VmBKaeG__",
    "outputId": "8522ead7-72e3-45cc-f5e4-8fec96df4ba0"
   },
   "outputs": [
    {
     "name": "stdout",
     "output_type": "stream",
     "text": [
      "+------------+-----------+------------+-----------+----------+----------+-----------------+--------------------+--------------------+----------+\n",
      "|sepal_length|sepal_width|petal_length|petal_width|   species|speciesInd|          feature|       rawPrediction|         probability|prediction|\n",
      "+------------+-----------+------------+-----------+----------+----------+-----------------+--------------------+--------------------+----------+\n",
      "|         4.7|        3.2|         1.6|        0.2|    setosa|       0.0|[4.7,3.2,1.6,0.2]|[379.970609223932...|[1.0,7.8402139884...|       0.0|\n",
      "|         4.8|        3.0|         1.4|        0.3|    setosa|       0.0|[4.8,3.0,1.4,0.3]|[347.139077850843...|[1.0,6.3306095306...|       0.0|\n",
      "|         4.8|        3.4|         1.6|        0.2|    setosa|       0.0|[4.8,3.4,1.6,0.2]|[396.212689452411...|[1.0,3.0491651686...|       0.0|\n",
      "|         4.9|        3.0|         1.4|        0.2|    setosa|       0.0|[4.9,3.0,1.4,0.2]|[352.994086155880...|[1.0,1.3742116679...|       0.0|\n",
      "|         5.0|        2.3|         3.3|        1.0|versicolor|       1.0|[5.0,2.3,3.3,1.0]|[23.6549429968603...|[5.72429628205371...|       1.0|\n",
      "|         5.0|        3.2|         1.2|        0.2|    setosa|       0.0|[5.0,3.2,1.2,0.2]|[382.474577415152...|[1.0,7.0118681918...|       0.0|\n",
      "|         5.0|        3.3|         1.4|        0.2|    setosa|       0.0|[5.0,3.3,1.4,0.2]|[381.352682143660...|[1.0,8.0086239909...|       0.0|\n",
      "|         5.1|        2.5|         3.0|        1.1|versicolor|       1.0|[5.1,2.5,3.0,1.1]|[45.9086801763684...|[1.22754098296262...|       1.0|\n",
      "|         5.1|        3.5|         1.4|        0.3|    setosa|       0.0|[5.1,3.5,1.4,0.3]|[383.748802776980...|[1.0,2.4851544793...|       0.0|\n",
      "|         5.5|        2.4|         3.8|        1.1|versicolor|       1.0|[5.5,2.4,3.8,1.1]|[-51.125284866585...|[6.05610399853779...|       1.0|\n",
      "+------------+-----------+------------+-----------+----------+----------+-----------------+--------------------+--------------------+----------+\n",
      "only showing top 10 rows\n",
      "\n"
     ]
    }
   ],
   "source": [
    "test_res.show(10)"
   ]
  },
  {
   "cell_type": "markdown",
   "metadata": {
    "id": "WlJPPs4rFrwv"
   },
   "source": [
    "Проверим качество модели"
   ]
  },
  {
   "cell_type": "code",
   "execution_count": 54,
   "metadata": {
    "id": "HlxLMOYAFpNt"
   },
   "outputs": [],
   "source": [
    "from pyspark.ml.evaluation import MulticlassClassificationEvaluator"
   ]
  },
  {
   "cell_type": "code",
   "execution_count": 55,
   "metadata": {
    "id": "6kDkBr1jGtv6"
   },
   "outputs": [],
   "source": [
    "ev = MulticlassClassificationEvaluator(labelCol='speciesInd')"
   ]
  },
  {
   "cell_type": "code",
   "execution_count": 56,
   "metadata": {
    "colab": {
     "base_uri": "https://localhost:8080/"
    },
    "id": "Yf1m2YR3G1oC",
    "outputId": "8000ee17-f164-4cb1-9f2d-0ec9af43c8bf"
   },
   "outputs": [
    {
     "data": {
      "text/plain": [
       "1.0"
      ]
     },
     "execution_count": 56,
     "metadata": {},
     "output_type": "execute_result"
    }
   ],
   "source": [
    "ev.evaluate(train_res)"
   ]
  },
  {
   "cell_type": "code",
   "execution_count": 57,
   "metadata": {
    "colab": {
     "base_uri": "https://localhost:8080/"
    },
    "id": "OYffHnj9G_-m",
    "outputId": "e368b36f-e337-441f-e9d8-fec9292ea44e"
   },
   "outputs": [
    {
     "data": {
      "text/plain": [
       "0.9285714285714286"
      ]
     },
     "execution_count": 57,
     "metadata": {},
     "output_type": "execute_result"
    }
   ],
   "source": [
    "ev.evaluate(test_res)"
   ]
  }
 ],
 "metadata": {
  "colab": {
   "collapsed_sections": [],
   "name": "Промежуточная аттестация посл.ipynb",
   "provenance": []
  },
  "kernelspec": {
   "display_name": "Python 3 (ipykernel)",
   "language": "python",
   "name": "python3"
  },
  "language_info": {
   "codemirror_mode": {
    "name": "ipython",
    "version": 3
   },
   "file_extension": ".py",
   "mimetype": "text/x-python",
   "name": "python",
   "nbconvert_exporter": "python",
   "pygments_lexer": "ipython3",
   "version": "3.11.1"
  }
 },
 "nbformat": 4,
 "nbformat_minor": 1
}
